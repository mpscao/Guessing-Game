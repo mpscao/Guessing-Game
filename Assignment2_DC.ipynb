{
 "cells": [
  {
   "cell_type": "markdown",
   "id": "e946ed85-5eb5-4e8a-9f48-5346f251269c",
   "metadata": {},
   "source": [
    "# Assignment 2\n",
    "\n",
    "In this assignment you will implement two ways of performing automatic differentiation: forward accumulation and reverse accumulation.\n",
    "\n",
    "## Part A: Automatic Differentiation with Forward Accumulation\n",
    "\n",
    "In forward accumulation, in one pass the algorithm evaluates the expression and calculates its derivative with respect to one input variable. However, if there are multiple input variables, then the algorithm has to be called once for each input variable."
   ]
  },
  {
   "cell_type": "markdown",
   "id": "3680c24d-74b9-4930-b2c0-c939ec0ffb8a",
   "metadata": {},
   "source": [
    "#### Provided sample classes:\n",
    "We provide some sample code and examples in the following for reference. Specifically, we provide the expression base class and common operator with its derivative functions."
   ]
  },
  {
   "cell_type": "code",
   "execution_count": 84,
   "id": "797eb5df-8e08-4c77-a774-954e3e0bcf8f",
   "metadata": {},
   "outputs": [],
   "source": [
    "import math\n",
    "import numpy as np\n",
    "\n",
    "class Expression:\n",
    "    def __init__(self, children=None, op=''):\n",
    "        self.children = children or []\n",
    "        self.op = op\n",
    "\n",
    "    def __add__(self, other):\n",
    "        return AddExpression(self, other)\n",
    "\n",
    "    def __mul__(self, other):\n",
    "        return MulExpression(self, other)\n",
    "\n",
    "    def __truediv__(self, other):\n",
    "        return TruedivExpression(self, other)\n",
    "    \n",
    "    def __pow__(self, other):\n",
    "        return PowExpression(self, other)\n",
    "    \n",
    "    def evaluate_derive(self, variable):\n",
    "        raise Exception('Method evaluate_derive not implemented: ' + self.op)\n",
    "\n",
    "    def __repr__(self):\n",
    "        return f'({self.op}, ' + str(self.children) + ')'\n",
    "\n",
    "class Var(Expression):\n",
    "    def __init__(self, value, op='Var'):\n",
    "        self.value = value\n",
    "        self.children = []\n",
    "        self.op = op\n",
    "        \n",
    "    def evaluate_derive(self, variable):\n",
    "        if variable == self:\n",
    "            return [self.value, 1]\n",
    "        else:\n",
    "            return [self.value, 0]\n",
    "\n",
    "    def __repr__(self):\n",
    "        return f'({self.op}, ' + str(self.value) + ')'\n",
    "\n",
    "class sin(Expression):\n",
    "    def __init__(self, expr):\n",
    "        super().__init__([expr], 'sin')\n",
    "    def evaluate_derive(self, variable):\n",
    "        value, grad = self.children[0].evaluate_derive(variable)\n",
    "        return [math.sin(value), math.cos(value) * grad]\n",
    "\n",
    "class sigmoid(Expression):\n",
    "    def __init__(self, expr):\n",
    "        super().__init__([expr], 'sigmoid')\n",
    "    def evaluate_derive(self, variable):\n",
    "        \n",
    "        ######## Insert your code below #########\n",
    "        \n",
    "        value, grad = self.children[0].evaluate_derive(variable)\n",
    "        return [1/(1+math.exp(-value)), 1/(1+math.exp(-value))*(1 - (1/(1+math.exp(-value))))*grad]\n",
    "        \n",
    "        #raise NotImplementedError\n",
    "\n",
    "        \n",
    "        \n",
    "        \n",
    "        ##########################################\n",
    "        \n",
    "        \n",
    "\n",
    "class AddExpression(Expression):\n",
    "    def __init__(self, left, right):\n",
    "        super().__init__([left, right], 'add')\n",
    "        \n",
    "    def evaluate_derive(self, variable):\n",
    "        value_left, grad_left = self.children[0].evaluate_derive(variable)\n",
    "        value_right, grad_right = self.children[1].evaluate_derive(variable)\n",
    "        return [value_left + value_right, grad_left + grad_right]\n",
    "\n",
    "class MulExpression(Expression):\n",
    "    def __init__(self, left, right):\n",
    "        super().__init__([left, right], 'mul')\n",
    "    \n",
    "    def evaluate_derive(self, variable):\n",
    "        value_left, grad_left = self.children[0].evaluate_derive(variable)\n",
    "        value_right, grad_right = self.children[1].evaluate_derive(variable)\n",
    "        return [\n",
    "            value_left * value_right,\n",
    "            value_right * grad_left + value_left * grad_right]\n",
    "\n",
    "class cos(Expression):\n",
    "    def __init__(self, expr):\n",
    "        super().__init__([expr], 'cos')\n",
    "    def evaluate_derive(self, variable):\n",
    "        ######## Insert your code below #########\n",
    "        \n",
    "        value, grad = self.children[0].evaluate_derive(variable)\n",
    "        return [math.cos(value), -math.sin(value)*grad]\n",
    "        #raise NotImplementedError\n",
    "       \n",
    "\n",
    "        \n",
    "        ##########################################\n",
    "\n",
    "    \n",
    "class TruedivExpression(Expression):\n",
    "    def __init__(self, left, right):\n",
    "        super().__init__([left, right], 'div')\n",
    "    def evaluate_derive(self, variable):\n",
    "        \n",
    "        ######## Insert your code below #########\n",
    "        \n",
    "        value_left, grad_left = self.children[0].evaluate_derive(variable)\n",
    "        value_right, grad_right = self.children[1].evaluate_derive(variable)\n",
    "        return [(value_left/value_right), ((grad_left*value_right - value_left*grad_right)/(value_right**2))]\n",
    "        #raise NotImplementedError\n",
    "\n",
    "        \n",
    "        \n",
    "        #########################################\n",
    "\n",
    "class PowExpression(Expression):\n",
    "    def __init__(self, left, right):\n",
    "        super().__init__([left, right], 'pow')\n",
    "        \n",
    "    def evaluate_derive(self, variable):\n",
    "\n",
    "        ######## Insert your code below #########\n",
    "        \n",
    "        value_left, grad_left = self.children[0].evaluate_derive(variable)\n",
    "        value_right, grad_right = self.children[1].evaluate_derive(variable)\n",
    "        return [(value_left**value_right), ((value_left**value_right)*((grad_right * np.log(value_left)) + (value_right*(grad_left/value_left))))]\n",
    "        #raise NotImplementedError\n",
    "\n",
    "        \n",
    "        ##########################################      \n",
    "\n",
    "class exp(Expression):\n",
    "    def __init__(self, expr):\n",
    "        super().__init__([expr], 'exp')\n",
    "    def evaluate_derive(self, variable):\n",
    "        value, grad = self.children[0].evaluate_derive(variable)\n",
    "        return [np.exp(value), math.exp(value) * grad]\n",
    "\n",
    "class log(Expression):\n",
    "    def __init__(self, expr):\n",
    "        super().__init__([expr], 'log')\n",
    "    def evaluate_derive(self, variable):\n",
    "        \n",
    "        ######## Insert your code below #########\n",
    "        \n",
    "        value, grad = self.children[0].evaluate_derive(variable)\n",
    "        return [np.log(value), (grad/value)]\n",
    "        #raise NotImplementedError\n",
    "         \n",
    "        ##########################################\n",
    "\n"
   ]
  },
  {
   "cell_type": "markdown",
   "id": "6b2cc8a7-69ac-46a2-b15c-dc4ec8a744a9",
   "metadata": {},
   "source": [
    "#### Example 1. Define $x=2$ and $y=e^x$. Find $\\frac{\\partial{y}}{\\partial{x}}|_{x=2}$."
   ]
  },
  {
   "cell_type": "code",
   "execution_count": 85,
   "id": "a4ba2860-0e7c-4f94-aece-b228eeff48fa",
   "metadata": {},
   "outputs": [
    {
     "name": "stdout",
     "output_type": "stream",
     "text": [
      "(exp, [(x, 2)]) [7.38905609893065, 7.38905609893065]\n"
     ]
    }
   ],
   "source": [
    "x = Var(2, op='x')\n",
    "y = exp(x)\n",
    "print(y, y.evaluate_derive(x))"
   ]
  },
  {
   "cell_type": "markdown",
   "id": "88e8d1c0-4d4c-447e-a973-6a512e4c0154",
   "metadata": {},
   "source": [
    "Output [7.38905609893065, 7.38905609893065] indicates that $y=7.8390$ and $\\frac{\\partial{y}}{\\partial{x}}|_{x=2}=7.8390$."
   ]
  },
  {
   "cell_type": "markdown",
   "id": "d98acecc-cdfd-44d2-884e-5ecd1313ee1f",
   "metadata": {},
   "source": [
    "#### <span style=\"color:red\">Question 1 (3pt): </span> Define $x=3$ and $z=\\sin(x)$. Find $\\frac{\\partial{z}}{\\partial{x}}|_{x=3}$."
   ]
  },
  {
   "cell_type": "code",
   "execution_count": 88,
   "id": "de2cd6ce-edc0-40bd-a855-63821e555e9b",
   "metadata": {},
   "outputs": [
    {
     "name": "stdout",
     "output_type": "stream",
     "text": [
      "(sin, [(x, 3)]) [0.1411200080598672, -0.9899924966004454]\n"
     ]
    }
   ],
   "source": [
    "######## Insert your code below #########\n",
    "        \n",
    "x = Var(3, op = 'x')\n",
    "z = sin(x)\n",
    "print(z, z.evaluate_derive(x))\n",
    "\n",
    "        \n",
    "        \n",
    "#########################################"
   ]
  },
  {
   "cell_type": "markdown",
   "id": "6af64598-4c94-4721-b221-755dc3abb17b",
   "metadata": {},
   "source": [
    "#### <span style=\"color:red\">Question 2 (10pt): </span> Implement $\\log(x)$ and $\\cos(x)$ function in the sample code provided at the beginning of Part A. Please do not modify any given functions and only insert your code where indicated."
   ]
  },
  {
   "cell_type": "markdown",
   "id": "594e0167-0ccb-4a32-bdde-3fa4c4485264",
   "metadata": {},
   "source": [
    "#### Example 2. Define $a=3$, $b=4$, $x=\\log(a)$, $y=\\cos(b)$ and $z=x + y$. Find $\\frac{\\partial{z}}{\\partial{a}}|_{a=3, b=4}$ and $\\frac{\\partial{z}}{\\partial{b}}|_{a=3,b=4}$. If your implmentation of $log(x)$ and $cos(x)$ are correct, you should get $\\frac{\\partial{z}}{\\partial{a}}|_{a=3}=0.3333$ and $\\frac{\\partial{z}}{\\partial{b}}|_{b=4}=0.7568$."
   ]
  },
  {
   "cell_type": "code",
   "execution_count": 89,
   "id": "231f5daf-1b2f-4662-ba72-1d206a9ad6b1",
   "metadata": {},
   "outputs": [
    {
     "name": "stdout",
     "output_type": "stream",
     "text": [
      "(add, [(log, [(a, 3)]), (cos, [(b, 4)])]) [0.44496866780449784, 0.3333333333333333]\n",
      "(add, [(log, [(a, 3)]), (cos, [(b, 4)])]) [0.44496866780449784, 0.7568024953079282]\n"
     ]
    }
   ],
   "source": [
    "a = Var(3, op='a')\n",
    "b = Var(4, op='b')\n",
    "x = log(a)\n",
    "y = cos(b)\n",
    "z = x + y\n",
    "print(z, z.evaluate_derive(a))\n",
    "print(z, z.evaluate_derive(b))"
   ]
  },
  {
   "cell_type": "markdown",
   "id": "b5bc820b-91dc-4e56-9741-17ccc8c0e861",
   "metadata": {},
   "source": [
    "#### <span style=\"color:red\">Question 3 (3pt): </span> Define $x=4$ and $y=\\log(x+4)$. Find $\\frac{\\partial{y}}{\\partial{x}}|_{x=4}$."
   ]
  },
  {
   "cell_type": "code",
   "execution_count": 90,
   "id": "f85d453b-abfe-41a1-b604-6a2eff06324c",
   "metadata": {},
   "outputs": [
    {
     "name": "stdout",
     "output_type": "stream",
     "text": [
      "(log, [(add, [(x, 4), (cons, 4)])]) [2.0794415416798357, 0.125]\n"
     ]
    }
   ],
   "source": [
    "######## Insert your code below #########\n",
    "               \n",
    "x = Var(4, op = 'x')\n",
    "const = Var(4, op = 'cons')\n",
    "y = log(x + const)\n",
    "print(y, y.evaluate_derive(x))\n",
    "        \n",
    "        \n",
    "#########################################"
   ]
  },
  {
   "cell_type": "markdown",
   "id": "aff6a9bc-ac03-428d-82ab-bd2465aea090",
   "metadata": {},
   "source": [
    "#### <span style=\"color:red\">Question 4 (10pt): </span> Implement the power function $x^y$ and the sigmoid function in the sample code provided at the beginning of Part A. The sigmoid function is defined the following way: $\\sigma(x)=\\dfrac{1}{1+e^{-x}}$. Please do not modify any given functions and only insert your code where indicated."
   ]
  },
  {
   "cell_type": "markdown",
   "id": "835b7338-11a2-470e-bb52-fab102fd1ad4",
   "metadata": {},
   "source": [
    "#### Example 3. Define $x=0.1$, $y=0.2$, $z=x^y$, and $w=\\sigma(z)$. Find $\\frac{\\partial{w}}{\\partial{x}}|_{x=0.1, y=0.2}$. If your implementation of $\\sigma(x)$ is correct, you should get $\\frac{\\partial{w}}{\\partial{x}}|_{x=0.1, y=0.2}=0.2860$ ."
   ]
  },
  {
   "cell_type": "code",
   "execution_count": 91,
   "id": "68ecba47-fcdd-4a14-9e7e-f8afde67cce2",
   "metadata": {},
   "outputs": [
    {
     "name": "stdout",
     "output_type": "stream",
     "text": [
      "(sigmoid, [(pow, [(x, 0.1), (y, 0.2)])]) [0.65270650544543, 0.28605173430348574]\n"
     ]
    }
   ],
   "source": [
    "x = Var(0.1, op='x')\n",
    "y = Var(0.2, op='y')\n",
    "z = x ** y\n",
    "w = sigmoid(z)\n",
    "print(w, w.evaluate_derive(x))"
   ]
  },
  {
   "cell_type": "markdown",
   "id": "cc4ebce1-4892-4265-935f-22a55fa05776",
   "metadata": {},
   "source": [
    "#### <span style=\"color:red\">Question 5 (10pt): </span> Implement the class TruedivExpression in the sample code provided at the beginning of Part A. You can use the provided class AddExpression, MulExpression as examples. Please do not modify any given functions and only insert your code where indicated."
   ]
  },
  {
   "cell_type": "markdown",
   "id": "c179a9b0-2a49-4d4b-85dc-5bb742a67b19",
   "metadata": {},
   "source": [
    "#### Example 4. Define $x=\\pi$, and $y=\\pi^2 \\cdot \\frac{\\sin(x)}{x^2}$. Find $\\frac{\\partial{y}}{\\partial{x}}|_{x=\\pi}$. If your implementation of class TruedivExpression is correct, you should get $\\frac{\\partial{y}}{\\partial{x}}|_{x=\\pi}=-1$ ."
   ]
  },
  {
   "cell_type": "code",
   "execution_count": 92,
   "id": "1e0eddd8-f76b-434e-85e4-6e1a546c780d",
   "metadata": {},
   "outputs": [
    {
     "name": "stdout",
     "output_type": "stream",
     "text": [
      "(div, [(mul, [(c2, 9.869604401089358), (sin, [(x, 3.141592653589793)])]), (pow, [(x, 3.141592653589793), (c1, 2)])]) [1.2246467991473532e-16, -1.0000000000000002]\n"
     ]
    }
   ],
   "source": [
    "x = Var(math.pi, op='x')\n",
    "c1 = Var(2, op='c1')\n",
    "c2 = Var(math.pi ** 2, op='c2')\n",
    "y = c2 * sin(x) / (x ** c1)\n",
    "print(y, y.evaluate_derive(x))"
   ]
  },
  {
   "cell_type": "markdown",
   "id": "12065471-c9b4-42a3-9f17-531ca91f5391",
   "metadata": {
    "tags": []
   },
   "source": [
    "#### <span style=\"color:red\">Question 6 (6pt): </span> Define $x=0.5$, $y=1.5$ and $z= x \\cdot y + \\sin(x)\\cdot \\cos(x) \\cdot \\log(x \\cdot y) + \\sigma(y) \\cdot \\log_2(x+y)$. Find $\\frac{\\partial{z}}{\\partial{y}}|_{x=0.5, y=1.5}$. "
   ]
  },
  {
   "cell_type": "code",
   "execution_count": 93,
   "id": "82acd2d9-afeb-4717-b315-a303e108ce6f",
   "metadata": {},
   "outputs": [
    {
     "name": "stdout",
     "output_type": "stream",
     "text": [
      "(add, [(add, [(mul, [(x, 0.5), (y, 1.5)]), (mul, [(mul, [(sin, [(x, 0.5)]), (cos, [(x, 0.5)])]), (log, [(mul, [(x, 0.5), (y, 1.5)])])])]), (mul, [(sigmoid, [(y, 1.5)]), (div, [(log, [(add, [(x, 0.5), (y, 1.5)])]), (log, [(const, 2)])])])]) [1.4465364177848552, 1.5193921015206122]\n"
     ]
    }
   ],
   "source": [
    "######## Insert your code below #########\n",
    "\n",
    "x = Var(0.5, op = 'x')\n",
    "y = Var(1.5, op = 'y')\n",
    "const= Var(2, op = 'const')\n",
    "z = x*y + sin(x)*cos(x)*log(x*y)+sigmoid(y)*(log(x+y)/log(const))\n",
    "print(z, z.evaluate_derive(y))\n",
    "\n",
    "        \n",
    "        \n",
    "#########################################"
   ]
  },
  {
   "cell_type": "markdown",
   "id": "8fc62e94-389c-4e0e-bda4-8b0ec5d9849d",
   "metadata": {},
   "source": [
    "#### <span style=\"color:red\">Question 7 (8pt): </span> Define $x=1$, $y=2$, $z=3$ and $w=\\sin(\\frac{1}{x})\\cdot \\log_{10}(y^3)+\\cos(\\frac{\\sqrt{z}}{\\exp(y)})$. Find $\\frac{\\partial{w}}{\\partial{x}}|_{x=1,y=2,z=3}$, $\\frac{\\partial{w}}{\\partial{y}}|_{x=1,y=2,z=3}$ and $\\frac{\\partial{w}}{\\partial{z}}|_{x=1,y=2,z=3}$."
   ]
  },
  {
   "cell_type": "code",
   "execution_count": 94,
   "id": "b0123eb5-b8bc-42af-a346-bc3809cae33e",
   "metadata": {},
   "outputs": [
    {
     "name": "stdout",
     "output_type": "stream",
     "text": [
      "(add, [(mul, [(sin, [(div, [(const1, 1), (x, 1)])]), (div, [(log, [(pow, [(y, 2), (const2, 3)])]), (log, [(const3, 10)])])]), (cos, [(div, [(pow, [(z, 3), (const4, 0.5)]), (exp, [(y, 2)])])])]) [1.7325761306945973, -0.48794160237817535] [1.7325761306945973, 0.6026144114405535] [1.7325761306945973, -0.009074183894151131]\n"
     ]
    }
   ],
   "source": [
    "######## Insert your code below #########\n",
    "\n",
    "x = Var(1, op = 'x')\n",
    "y = Var(2, op = 'y')\n",
    "z = Var(3, op = 'z')\n",
    "const1 = Var(1, op = 'const1')\n",
    "const2 = Var(3, op = 'const2')\n",
    "const3 = Var(10, op = 'const3')\n",
    "const4 = Var(0.5, op = 'const4')\n",
    "w = sin(const1/x) * (log(y**const2)/log(const3)) + cos((z**const4)/exp(y))\n",
    "print(w, w.evaluate_derive(x), w.evaluate_derive(y), w.evaluate_derive(z))\n",
    "        \n",
    "        \n",
    "#########################################"
   ]
  },
  {
   "cell_type": "markdown",
   "id": "f77a2a5b-178c-4793-bd0b-420289a57beb",
   "metadata": {},
   "source": [
    "#### Appendix: How to verify your implmentation using pytorch?\n",
    "PyTorch has a well-known built-in automatic differentiation system. Below, we provide a simple script demonstrating how to use it in a basic 1-dimensional case. Please note that this is a fundamental example; PyTorch’s automatic differentiation is much more powerful and can handle tensors of any dimension.\n",
    "\n",
    "Ensure that you run the following code only after completing all the required implementations; otherwise, you may encounter errors."
   ]
  },
  {
   "cell_type": "markdown",
   "id": "844330d3-f8f3-48e7-a4fe-ddb660bfb23f",
   "metadata": {},
   "source": [
    "#### Define $x=5$, $y=3$, $a=x^y$, $b=x \\cdot \\sigma(a)$ and $z = (\\frac{a}{b})^2$. Find $\\frac{\\partial{z}}{\\partial{x}}|_{x=5,y=3}$ and $\\frac{\\partial{z}}{\\partial{y}}|_{x=5,y=3}$."
   ]
  },
  {
   "cell_type": "code",
   "execution_count": 95,
   "id": "c3ef6d3c-8577-48d9-bf2f-ff0723e782e2",
   "metadata": {},
   "outputs": [
    {
     "name": "stdout",
     "output_type": "stream",
     "text": [
      "tensor(625., grad_fn=<PowBackward0>) tensor(500.) tensor(2011.7975)\n",
      "[625.0, 500.0000000000001]\n",
      "[625.0, 2011.7973905426254]\n"
     ]
    }
   ],
   "source": [
    "## PyTorch implementation \n",
    "\n",
    "import torch\n",
    "x = torch.tensor(5.0, requires_grad=True)\n",
    "y = torch.tensor(3.0, requires_grad=True)\n",
    "a = x.pow(y)\n",
    "b = x * torch.sigmoid(a)\n",
    "z = (a / b).pow(2)\n",
    "z.backward()\n",
    "print(z, x.grad, y.grad)\n",
    "\n",
    "## Our forward implementation\n",
    "\n",
    "x = Var(5.0, op='x')\n",
    "y = Var(3.0, op='y')\n",
    "a = x ** y\n",
    "b = x * sigmoid(a)\n",
    "z = (a / b) ** (Var(2.0, op='c'))\n",
    "print(z.evaluate_derive(x))\n",
    "print(z.evaluate_derive(y))\n",
    "\n",
    "## Same results"
   ]
  },
  {
   "cell_type": "markdown",
   "id": "2e5bffbb-ac44-4acd-9f7d-9cc2672f54d9",
   "metadata": {},
   "source": [
    "## Part B: Automatic Differentiation with Reverse Accumulation\n",
    "\n",
    "In reverse accumulation, the algorithm performs two passes. In the first pass it evaluates the expression, then in the second pass it computes all the partial derivatives with respect to all the input variables. Reverse accumulation is faster if there more input variables than output variables. However, compared to forward accumulation reverse accumulation does require more memory because it has to store the results of the first pass."
   ]
  },
  {
   "cell_type": "markdown",
   "id": "0550adad-f44a-451b-8c86-28c4e36cae79",
   "metadata": {},
   "source": [
    "#### Provided sample classes:\n",
    "We provide some sample code and examples in the following for reference. Specifically, we provide the expression base class and common operator with its derivative functions."
   ]
  },
  {
   "cell_type": "code",
   "execution_count": 96,
   "id": "5804746d-7062-4369-a84d-f99b3e9acd9b",
   "metadata": {},
   "outputs": [],
   "source": [
    "import math\n",
    "import numpy as np\n",
    "\n",
    "class Var:\n",
    "    def __init__(self, value, children=None, op='Var'):\n",
    "        self.value = value\n",
    "        self.grad = 0\n",
    "        self.children = children or []\n",
    "        self.op = op\n",
    "\n",
    "    def __add__(self, other):\n",
    "        return Var(\n",
    "            self.value + other.value,\n",
    "            [(1, self), (1, other)],\n",
    "            'add')\n",
    "\n",
    "    def __mul__(self, other):\n",
    "        return Var(\n",
    "            self.value * other.value,\n",
    "            [(other.value, self), (self.value, other)],\n",
    "            'mul')\n",
    "\n",
    "    def __truediv__(self, other):\n",
    "        ######## Insert your code below #########\n",
    "        \n",
    "        return Var(self.value/other.value, \n",
    "                   [(1/other.value, self), (-self.value/other.value**2, other)], \n",
    "                   'div')\n",
    "        #raise NotImplementedError\n",
    "      \n",
    "        \n",
    "        \n",
    "        ########################################################\n",
    "        \n",
    "\n",
    "\n",
    "    def __pow__(self, other):\n",
    "        \n",
    "        ######## Remove pass and insert your code below #########\n",
    "        \n",
    "        return Var(self.value**other.value, \n",
    "                   [(other.value*self.value**(other.value-1), self), ((self.value**other.value)*np.log(self.value), other)],\n",
    "                   'pow')\n",
    "        #raise NotImplementedError\n",
    "        \n",
    "        \n",
    "        #########################################################\n",
    "\n",
    "        \n",
    "        \n",
    "    def backward(self, grad=1):\n",
    "        # print('backward:', self.op, grad)\n",
    "        self.grad += grad\n",
    "        for coef, child in self.children:\n",
    "            child.backward(grad * coef)\n",
    "\n",
    "    def __repr__(self):\n",
    "        return f'({self.op}, ' + str(self.value) + ')'\n",
    "\n",
    "class sin(Var):\n",
    "    def __init__(self, expr):\n",
    "        ######## Remove pass and insert your code below #########\n",
    "        \n",
    "        super().__init__(\n",
    "            np.sin(expr.value),\n",
    "            [(np.cos(expr.value), expr)],\n",
    "            type(self).__name__)\n",
    "        #raise NotImplementedError\n",
    "        \n",
    "        \n",
    "        \n",
    "        #########################################################\n",
    "        \n",
    "class exp(Var):\n",
    "    def __init__(self, expr):\n",
    "        super().__init__(\n",
    "            np.exp(expr.value),\n",
    "            [(np.exp(expr.value), expr)],\n",
    "            type(self).__name__)\n",
    "        \n",
    "class log(Var):\n",
    "    def __init__(self, expr):\n",
    "        ######## Remove pass and insert your code below #########\n",
    "        \n",
    "        super().__init__(\n",
    "            np.log(expr.value),\n",
    "            [(1/(expr.value), expr)],\n",
    "            type(self).__name__)\n",
    "       #raise NotImplementedError\n",
    "\n",
    "        \n",
    "        \n",
    "        #########################################################\n",
    "        \n",
    "class cos(Var):\n",
    "    def __init__(self, expr):\n",
    "        super().__init__(\n",
    "            np.cos(expr.value),\n",
    "            [(-np.sin(expr.value), expr)],\n",
    "            type(self).__name__)\n",
    "        \n",
    "class tanh(Var):\n",
    "    def __init__(self, expr):\n",
    "        ######## Remove pass and insert your code below #########\n",
    "        \n",
    "        super().__init__(\n",
    "            np.tanh(expr.value),\n",
    "            [(1 - np.tanh(expr.value)**2, expr)],\n",
    "            type(self).__name__)\n",
    "        #raise NotImplementedError\n",
    "\n",
    "        \n",
    "        #########################################################\n",
    "        "
   ]
  },
  {
   "cell_type": "markdown",
   "id": "a7dd05cc-95d9-4006-b6de-7445e93c8276",
   "metadata": {},
   "source": [
    "#### Example 1. Define $x=3$ and $z=\\cos(x)$. Find $\\frac{\\partial{z}}{\\partial{x}}|_{x=3}$."
   ]
  },
  {
   "cell_type": "code",
   "execution_count": 97,
   "id": "b9991c95-13ca-4cb8-942e-771cb7bf66eb",
   "metadata": {},
   "outputs": [
    {
     "name": "stdout",
     "output_type": "stream",
     "text": [
      "(cos, -0.9899924966004454) -0.1411200080598672\n"
     ]
    }
   ],
   "source": [
    "x = Var(3, op='x')\n",
    "z = cos(x)\n",
    "z.backward()\n",
    "print(z, x.grad)"
   ]
  },
  {
   "cell_type": "markdown",
   "id": "1ab4fccd-856e-4f13-ab8e-4748489e0779",
   "metadata": {},
   "source": [
    "Output (cos, -0.9899924966004454) -0.1411200080598672 indicates that $z=1.0986$ and $\\frac{\\partial{z}}{\\partial{x}}|_{x=3}=-0.1411$."
   ]
  },
  {
   "cell_type": "markdown",
   "id": "5f2686c9-4c31-4bf6-a199-abd6372a31ff",
   "metadata": {},
   "source": [
    "#### <span style=\"color:red\">Question 1 (7pt): </span> Define $x=0.5$ and $y=\\exp(x) + \\cos(x)$. Find $\\frac{\\partial{y}}{\\partial{x}}|_{x=0.5}$."
   ]
  },
  {
   "cell_type": "code",
   "execution_count": 98,
   "id": "d6a23135-4683-4493-9140-993b51014d33",
   "metadata": {},
   "outputs": [
    {
     "name": "stdout",
     "output_type": "stream",
     "text": [
      "(add, 2.526303832590501) 1.1692957320959252\n"
     ]
    }
   ],
   "source": [
    "######## Insert your code below #########\n",
    "\n",
    "x = Var(0.5, op = 'x')\n",
    "y = exp(x) + cos(x)\n",
    "y.backward()\n",
    "print(y, x.grad)\n",
    "\n",
    "        \n",
    "        \n",
    "#########################################"
   ]
  },
  {
   "cell_type": "markdown",
   "id": "c50da7bc-cbc5-4d5c-9612-e5b8bb40ce5f",
   "metadata": {},
   "source": [
    "#### <span style=\"color:red\">Question 2 (10pt): </span> Implement the $\\log(x)$ and $\\sin(x)$ function in the sample code provided at the beginning of Part B. Please do not modify any given functions and only insert your code where indicated. "
   ]
  },
  {
   "cell_type": "markdown",
   "id": "8c8966ac-f019-4f44-bacd-73606d5b90dd",
   "metadata": {},
   "source": [
    "#### Example 2. Define $x=3$, $y=2$ and $z=\\log(\\cos(\\exp(x))\\cdot \\sin(y))$. Find $\\frac{\\partial{z}}{\\partial{x}}|_{x=3,y=2}$ and $\\frac{\\partial{z}}{\\partial{y}}|_{x=3,y=2}$. If your implementation of $\\log(x)$ and $\\sin(x)$ are correct, you should get $\\frac{\\partial{z}}{\\partial{x}}|_{x=3,y=2}=-57.7313$ and $\\frac{\\partial{z}}{\\partial{y}}|_{x=3,y=2}=-0.4576$."
   ]
  },
  {
   "cell_type": "code",
   "execution_count": 99,
   "id": "ae022cb5-bdb8-4502-88ba-5f216ed8bb9a",
   "metadata": {},
   "outputs": [
    {
     "name": "stdout",
     "output_type": "stream",
     "text": [
      "(log, -1.208013069940718) -57.73131496788059 -0.45765755436028577\n"
     ]
    }
   ],
   "source": [
    "x = Var(3, op = 'x')\n",
    "y = Var(2, op = 'y')\n",
    "z = log(cos(exp(x)) * sin(y))\n",
    "z.backward()\n",
    "print(z, x.grad, y.grad)\n"
   ]
  },
  {
   "cell_type": "markdown",
   "id": "eee0874d-2767-44e2-91ca-d16941af5aa9",
   "metadata": {
    "jp-MarkdownHeadingCollapsed": true
   },
   "source": [
    "#### <span style=\"color:red\">Question 3 (10pt): </span> Implement the power function $x^y$ and the hyperbolic tangent function in the sample code provided at the beginning of Part B. The hyperbolic tangent function is defined the following way: $\\tanh(x)=\\dfrac{\\exp(x)-\\exp(-x)}{\\exp(x)+\\exp(-x)}$. "
   ]
  },
  {
   "cell_type": "markdown",
   "id": "f5c91f5a-7a8a-460d-beae-82fbe20df828",
   "metadata": {},
   "source": [
    "#### Example 3. Define $x=0.5$ and $z=x^x \\cdot \\tanh(x)$. Find $\\frac{\\partial{z}}{\\partial{x}}|_{x=0.5}$. If your implementation of $\\sigma(x)$ is correct, you should get $\\frac{\\partial{z}}{\\partial{x}}|_{x=0.5}=0.6563$ ."
   ]
  },
  {
   "cell_type": "code",
   "execution_count": 100,
   "id": "4b9b4470-42ab-4de8-9be4-abb60535e7f3",
   "metadata": {},
   "outputs": [
    {
     "name": "stdout",
     "output_type": "stream",
     "text": [
      "(mul, 0.3267661756012031) 0.6563716473098675\n"
     ]
    }
   ],
   "source": [
    "x = Var(0.5, op='x')\n",
    "z = (x ** x) * tanh(x)\n",
    "z.backward()\n",
    "print(z, x.grad)"
   ]
  },
  {
   "cell_type": "markdown",
   "id": "200bca2d-f430-4fed-ba55-b41f31606750",
   "metadata": {},
   "source": [
    "#### <span style=\"color:red\"> Question 4 (10pt):</span> Implement the function \\_\\_truediv\\_\\_ in the sample code provided at the beginning of Part B. You can use the provided class AddExpression, MulExpression as examples. Please do not modify any given functions and only insert your code where indicated."
   ]
  },
  {
   "cell_type": "markdown",
   "id": "81829401-438b-4e30-a8fe-cc6f49b8fac6",
   "metadata": {},
   "source": [
    "#### Example 4. Define $x=0$ and $z=\\tan(x)=\\frac{\\sin(x)}{\\cos(x)}$. Find $\\frac{\\partial{z}}{\\partial{x}}|_{x=0}$. If your implementation of $\\sigma(x)$ is correct, you should get $\\frac{\\partial{z}}{\\partial{x}}|_{x=0}=1$ ."
   ]
  },
  {
   "cell_type": "code",
   "execution_count": 101,
   "id": "6807ec81-253f-4ef3-bd48-16d4a15467a0",
   "metadata": {},
   "outputs": [
    {
     "name": "stdout",
     "output_type": "stream",
     "text": [
      "(div, 0.0) 1.0\n"
     ]
    }
   ],
   "source": [
    "x = Var(0, op='x')\n",
    "z = sin(x) / cos(x)\n",
    "z.backward()\n",
    "print(z, x.grad)"
   ]
  },
  {
   "cell_type": "markdown",
   "id": "71468822",
   "metadata": {},
   "source": [
    "#### <span style=\"color:red\">Question 5 (8pt): </span> Define $x=1$, $y=2$, $z=3$ and $w=\\sin(\\frac{1}{x})\\cdot \\log_{10}(y^3)+\\cos(\\frac{\\sqrt{z}}{\\exp(y)})$. Find $\\frac{\\partial{w}}{\\partial{x}}|_{x=1,y=2,z=3}$, $\\frac{\\partial{w}}{\\partial{y}}|_{x=1,y=2,z=3}$ and $\\frac{\\partial{w}}{\\partial{z}}|_{x=1,y=2,z=3}$. "
   ]
  },
  {
   "cell_type": "code",
   "execution_count": 102,
   "id": "b59d1eb5-c9e9-4108-9c3a-7780ce93e9ad",
   "metadata": {},
   "outputs": [
    {
     "name": "stdout",
     "output_type": "stream",
     "text": [
      "(add, 1.7325761306945973) -0.48794160237817535 0.6026144114405535 -0.009074183894151133\n"
     ]
    }
   ],
   "source": [
    "######## Insert your code below #########\n",
    "\n",
    "x = Var(1, op = 'x')\n",
    "y = Var(2, op = 'y')\n",
    "z = Var(3, op = 'z')\n",
    "const1 = Var(1, op = 'const1')\n",
    "const2 = Var(3, op = 'const2')\n",
    "const3 = Var(10, op = 'const3')\n",
    "const4 = Var(0.5, op = 'const4')\n",
    "w = sin(const1/x) * (log(y**const2)/log(const3)) + cos((z**const4)/exp(y))\n",
    "w.backward()\n",
    "print(w, x.grad, y.grad, z.grad)\n",
    "\n",
    "        \n",
    "        \n",
    "#########################################"
   ]
  },
  {
   "cell_type": "markdown",
   "id": "8fad7226-db7c-4205-b07b-c2aadf68219f",
   "metadata": {},
   "source": [
    "#### <span style=\"color:red\">Question 6 (5pt): </span> Compare with Question 7 in Part A, briefly discuss what are the differences between them. (Hint: which one is faster or more efficient?)"
   ]
  },
  {
   "cell_type": "markdown",
   "id": "8672235e-963b-4ebc-bdf1-acecaf302573",
   "metadata": {},
   "source": [
    "**Your discussion starts here:**\n",
    "Backward pass goes from output to input while forward pass goes from input to output. For forward pass, the model parameters are used to compute both the intermediate input and output variables while during backward pass, the intermediate variables are used to find the gradient. Therefore, in cases where there's a greater number of inputs than outputs such as Question 5 above, the backward pass would be more efficeint while for cases where there's more outputs than inputs, forward pass would be more efficient. In cases where there's an equal amount of inputs and outputs, they may be equally efficient."
   ]
  },
  {
   "cell_type": "markdown",
   "id": "2c9a0b24-0f15-4019-8f31-6276ca84ad3b",
   "metadata": {},
   "source": [
    "#### Appendix: How to verify your implmentation using pytorch?\n",
    "PyTorch has a well-known built-in automatic differentiation system. Below, we provide a simple script demonstrating how to use it in a basic 1-dimensional case. Please note that this is a fundamental example; PyTorch’s automatic differentiation is much more powerful and can handle tensors of any dimension.\n",
    "\n",
    "Ensure that you run the following code only after completing all the required implementations; otherwise, you may encounter errors."
   ]
  },
  {
   "cell_type": "markdown",
   "id": "5f1dc221-369d-4988-ba43-5d868f4db918",
   "metadata": {},
   "source": [
    "#### Define $x=5$, $y=3$, $a=x^y$, $b=x \\cdot \\tanh(a)$ and $z = (\\frac{a}{b})^2$. Find $\\frac{\\partial{z}}{\\partial{x}}|_{x=5,y=3}$ and $\\frac{\\partial{z}}{\\partial{y}}|_{x=5,y=3}$."
   ]
  },
  {
   "cell_type": "code",
   "execution_count": 103,
   "id": "ec6d3682-ec8e-4c5a-a0de-fed26e3d2c60",
   "metadata": {},
   "outputs": [
    {
     "name": "stdout",
     "output_type": "stream",
     "text": [
      "tensor(625., grad_fn=<PowBackward0>) tensor(500.) tensor(2011.7975)\n",
      "(pow, 625.0) 500.0 2011.7973905426254\n"
     ]
    }
   ],
   "source": [
    "## PyTorch implementation \n",
    "\n",
    "import torch\n",
    "xt = torch.tensor(5.0, requires_grad=True)\n",
    "yt = torch.tensor(3.0, requires_grad=True)\n",
    "at = xt.pow(yt)\n",
    "bt = xt * torch.tanh(at)\n",
    "zt = (at / bt).pow(2)\n",
    "zt.backward()\n",
    "print(zt, xt.grad, yt.grad)\n",
    "\n",
    "## Our backward implementation\n",
    "\n",
    "x = Var(5.0, op='x')\n",
    "y = Var(3.0, op='y')\n",
    "a = x ** y\n",
    "b = x * tanh(a)\n",
    "z = (a / b) ** (Var(2.0, op='c'))\n",
    "z.backward()\n",
    "print(z, x.grad, y.grad)\n",
    "\n",
    "## Same results"
   ]
  }
 ],
 "metadata": {
  "kernelspec": {
   "display_name": "Python 3 (ipykernel)",
   "language": "python",
   "name": "python3"
  },
  "language_info": {
   "codemirror_mode": {
    "name": "ipython",
    "version": 3
   },
   "file_extension": ".py",
   "mimetype": "text/x-python",
   "name": "python",
   "nbconvert_exporter": "python",
   "pygments_lexer": "ipython3",
   "version": "3.9.12"
  }
 },
 "nbformat": 4,
 "nbformat_minor": 5
}
